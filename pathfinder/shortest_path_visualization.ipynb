{
 "cells": [
  {
   "cell_type": "code",
   "execution_count": null,
   "id": "94a2435b-0036-4112-8d59-52dd5a25e1e1",
   "metadata": {},
   "outputs": [],
   "source": [
    "from pathlib import Path\n",
    "import copy\n",
    "import json\n",
    "import networkx as nx\n",
    "import osmnx as ox\n",
    "# python -m pip install networkx osmnx matplotlib folium mapclassify"
   ]
  },
  {
   "cell_type": "code",
   "execution_count": null,
   "id": "a99bdc8b-88fc-421d-915d-829c27d3ddd6",
   "metadata": {},
   "outputs": [],
   "source": [
    "ox.settings.use_cache = True\n",
    "ox.settings.log_console = True"
   ]
  },
  {
   "cell_type": "markdown",
   "id": "4b96a0ff-e941-4040-9830-c65cef6ca994",
   "metadata": {},
   "source": [
    "## 1. Fetch OSM graph of any location"
   ]
  },
  {
   "cell_type": "code",
   "execution_count": null,
   "id": "4192c6c9-70ff-4226-a9c4-5cfe926b161c",
   "metadata": {},
   "outputs": [],
   "source": [
    "# get a graph\n",
    "location = ('stuttgart', 'Stuttgart, Baden-Württemberg, Germany')\n",
    "G = ox.graph_from_place(location[1], network_type='drive')\n",
    "\n",
    "# impute missing edge speed and add travel times\n",
    "G = ox.add_edge_speeds(G)\n",
    "G = ox.add_edge_travel_times(G)"
   ]
  },
  {
   "cell_type": "code",
   "execution_count": null,
   "id": "2c814831-cb16-490b-8a2f-dc92c6c4dcb6",
   "metadata": {},
   "outputs": [],
   "source": [
    "list(G.nodes(data=True))"
   ]
  },
  {
   "cell_type": "code",
   "execution_count": null,
   "id": "31b45f2b-cc5a-48b1-85d2-85178c85e491",
   "metadata": {},
   "outputs": [],
   "source": [
    "list(G.edges(data=True))"
   ]
  },
  {
   "cell_type": "code",
   "execution_count": null,
   "id": "d6429969-6fd8-48d0-85c5-d2e3805c5c63",
   "metadata": {},
   "outputs": [],
   "source": [
    "def save(G, fname):\n",
    "    nodeArr = []\n",
    "    show = 10\n",
    "    for node, node_data in list(G.nodes(data=True)):\n",
    "        if show > 0:\n",
    "            print('node:', node, node_data)\n",
    "            show -= 1\n",
    "        nodeArr.append((node, node_data))\n",
    "\n",
    "    edgeArr = []\n",
    "    show = 10\n",
    "    for edge_a, edge_b, edge_data in list(G.edges(data=True)):\n",
    "        if show > 0:\n",
    "            print('edge:', edge_a, edge_b, edge_data, list(edge_data.keys()))\n",
    "            show -= 1\n",
    "        copied_edge_data = copy.deepcopy(edge_data)\n",
    "        copied_edge_data.pop('geometry', None)\n",
    "        edgeArr.append((edge_a, edge_b, copied_edge_data))\n",
    "\n",
    "    graphDict = { 'nodes': nodeArr,\n",
    "                  'edges': edgeArr}\n",
    "    json.dump(graphDict, open(fname, 'w'))\n",
    "\n",
    "save(G, Path(\"cache\") / f'output_graph_{location[0]}.json')"
   ]
  },
  {
   "cell_type": "markdown",
   "id": "78ef9681-02d5-4165-b043-2727e756234a",
   "metadata": {},
   "source": [
    "## 2. Calculate shortest path between 2 OSM nodes using different weights"
   ]
  },
  {
   "cell_type": "code",
   "execution_count": null,
   "id": "15405c06-ba0b-4a04-8f69-cac9ec7c8560",
   "metadata": {},
   "outputs": [],
   "source": [
    "list(G.nodes(data=True))[0]"
   ]
  },
  {
   "cell_type": "code",
   "execution_count": null,
   "id": "dd02b40b-d57b-46df-a20b-f4599b488a14",
   "metadata": {},
   "outputs": [],
   "source": [
    "list(G.nodes(data=True))[-1]"
   ]
  },
  {
   "cell_type": "code",
   "execution_count": null,
   "id": "eb95939b-32a7-4068-a1fe-65a77b403633",
   "metadata": {},
   "outputs": [],
   "source": [
    "# calculate shortest path minimizing travel time\n",
    "orig_node, target_node = list(G)[0], list(G)[-1]"
   ]
  },
  {
   "cell_type": "code",
   "execution_count": null,
   "id": "1e4522fe-53cc-4328-b36b-5f8786a605de",
   "metadata": {},
   "outputs": [],
   "source": [
    "shortest_route_travle_time = nx.shortest_path(G, source=orig_node, target=target_node, weight='travel_time')\n",
    "shortest_route_length = nx.shortest_path(G, source=orig_node, target=target_node, weight='length')"
   ]
  },
  {
   "cell_type": "code",
   "execution_count": null,
   "id": "9ceecabc-bf0a-4bb5-9e15-c8bd0c206f9f",
   "metadata": {},
   "outputs": [],
   "source": [
    "shortest_route_travle_time"
   ]
  },
  {
   "cell_type": "code",
   "execution_count": null,
   "id": "32cd4bff-b774-4519-99ca-5354470f33c2",
   "metadata": {},
   "outputs": [],
   "source": [
    "route_map = ox.plot_route_folium(G, shortest_route_travle_time)\n",
    "route_map"
   ]
  },
  {
   "cell_type": "code",
   "execution_count": null,
   "id": "40c98b8f-f2b6-4156-a867-a9dc86afd2f1",
   "metadata": {},
   "outputs": [],
   "source": [
    "route_map = ox.plot_route_folium(G, shortest_route_length)\n",
    "route_map"
   ]
  },
  {
   "cell_type": "code",
   "execution_count": null,
   "id": "cfec04a9-944e-426e-a8d1-e6eff13402b7",
   "metadata": {},
   "outputs": [],
   "source": [
    "gdf_nodes, gdf_edges = ox.graph_to_gdfs(G, nodes=True, edges=True)"
   ]
  },
  {
   "cell_type": "code",
   "execution_count": null,
   "id": "2bc7eefc-70b8-4142-9b11-fe27996ac714",
   "metadata": {},
   "outputs": [],
   "source": [
    "gdf_nodes"
   ]
  },
  {
   "cell_type": "code",
   "execution_count": null,
   "id": "71c47317-8870-4b65-9fec-a1e9b4e339cb",
   "metadata": {},
   "outputs": [],
   "source": [
    "gdf_edges"
   ]
  },
  {
   "cell_type": "code",
   "execution_count": null,
   "id": "8e33e579-9921-4daf-add5-0d93638d6b42",
   "metadata": {
    "scrolled": true
   },
   "outputs": [],
   "source": [
    "gdf_edges.explore()"
   ]
  },
  {
   "cell_type": "code",
   "execution_count": null,
   "id": "b15ef02a-a90c-42e7-afd2-106e56bf1fe3",
   "metadata": {},
   "outputs": [],
   "source": [
    "G.nodes[3228724503]"
   ]
  },
  {
   "cell_type": "code",
   "execution_count": null,
   "id": "4e3fc694-40c3-4ced-bd05-615d7930348e",
   "metadata": {},
   "outputs": [],
   "source": []
  }
 ],
 "metadata": {
  "kernelspec": {
   "display_name": "Python 3 (ipykernel)",
   "language": "python",
   "name": "python3"
  },
  "language_info": {
   "codemirror_mode": {
    "name": "ipython",
    "version": 3
   },
   "file_extension": ".py",
   "mimetype": "text/x-python",
   "name": "python",
   "nbconvert_exporter": "python",
   "pygments_lexer": "ipython3",
   "version": "3.12.2"
  }
 },
 "nbformat": 4,
 "nbformat_minor": 5
}
